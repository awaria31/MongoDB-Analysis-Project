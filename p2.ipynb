{
 "cells": [
  {
   "cell_type": "code",
   "execution_count": 1,
   "id": "dea3bdf5-22bf-4268-b4e0-09c1d0591805",
   "metadata": {},
   "outputs": [
    {
     "name": "stdout",
     "output_type": "stream",
     "text": [
      "Archive:  /home/anyawaria/p2/sample_mflix.zip\n",
      "   creating: /home/anyawaria/p2/sample_mflix/sample_mflix/\n",
      "  inflating: /home/anyawaria/p2/sample_mflix/__MACOSX/._sample_mflix  \n",
      "  inflating: /home/anyawaria/p2/sample_mflix/sample_mflix/sessions.json  \n",
      "  inflating: /home/anyawaria/p2/sample_mflix/__MACOSX/sample_mflix/._sessions.json  \n",
      "  inflating: /home/anyawaria/p2/sample_mflix/sample_mflix/movies.json  \n",
      "  inflating: /home/anyawaria/p2/sample_mflix/__MACOSX/sample_mflix/._movies.json  \n",
      "  inflating: /home/anyawaria/p2/sample_mflix/sample_mflix/comments.json  \n",
      "  inflating: /home/anyawaria/p2/sample_mflix/__MACOSX/sample_mflix/._comments.json  \n",
      "  inflating: /home/anyawaria/p2/sample_mflix/sample_mflix/theaters.json  \n",
      "  inflating: /home/anyawaria/p2/sample_mflix/__MACOSX/sample_mflix/._theaters.json  \n",
      "  inflating: /home/anyawaria/p2/sample_mflix/sample_mflix/users.json  \n",
      "  inflating: /home/anyawaria/p2/sample_mflix/__MACOSX/sample_mflix/._users.json  \n"
     ]
    }
   ],
   "source": [
    "!unzip -o ~/p2/sample_mflix.zip -d ~/p2/sample_mflix"
   ]
  },
  {
   "cell_type": "code",
   "execution_count": 2,
   "id": "a8b2401c-c76a-4de0-83ff-99fc12770fcb",
   "metadata": {},
   "outputs": [
    {
     "name": "stdout",
     "output_type": "stream",
     "text": [
      "total 60M\n",
      "drwxrwxr-x 3 anyawaria anyawaria 4.0K Mar  5 00:28 __MACOSX\n",
      "-rw-r--r-- 1 anyawaria anyawaria  18M Apr 15  2023 comments.json\n",
      "-rw-r--r-- 1 anyawaria anyawaria  42M Apr 15  2023 movies.json\n",
      "drwxr-xr-x 2 anyawaria anyawaria 4.0K Apr 15  2023 sample_mflix\n",
      "-rw-r--r-- 1 anyawaria anyawaria  560 Apr 15  2023 sessions.json\n",
      "-rw-r--r-- 1 anyawaria anyawaria 444K Apr 15  2023 theaters.json\n",
      "-rw-r--r-- 1 anyawaria anyawaria  33K Apr 15  2023 users.json\n"
     ]
    }
   ],
   "source": [
    "!ls -lh ~/p2/sample_mflix"
   ]
  },
  {
   "cell_type": "code",
   "execution_count": 3,
   "id": "cfa0dc75-5020-4029-af5b-defd83beb946",
   "metadata": {},
   "outputs": [],
   "source": [
    "!rm -rf ~/p2/sample_mflix/__MACOSX"
   ]
  },
  {
   "cell_type": "code",
   "execution_count": 4,
   "id": "357be64e-7eda-41b4-8a80-1031255c7e92",
   "metadata": {},
   "outputs": [
    {
     "name": "stdout",
     "output_type": "stream",
     "text": [
      "total 60M\n",
      "-rw-r--r-- 1 anyawaria anyawaria  18M Apr 15  2023 comments.json\n",
      "-rw-r--r-- 1 anyawaria anyawaria  42M Apr 15  2023 movies.json\n",
      "drwxr-xr-x 2 anyawaria anyawaria 4.0K Apr 15  2023 sample_mflix\n",
      "-rw-r--r-- 1 anyawaria anyawaria  560 Apr 15  2023 sessions.json\n",
      "-rw-r--r-- 1 anyawaria anyawaria 444K Apr 15  2023 theaters.json\n",
      "-rw-r--r-- 1 anyawaria anyawaria  33K Apr 15  2023 users.json\n"
     ]
    }
   ],
   "source": [
    "!ls -lh ~/p2/sample_mflix"
   ]
  },
  {
   "cell_type": "code",
   "execution_count": 5,
   "id": "80512447-d8f7-4b81-9245-dab29f2a92f5",
   "metadata": {},
   "outputs": [],
   "source": [
    "!rm -rf ~/p2/sample_mflix/sample_mflix"
   ]
  },
  {
   "cell_type": "code",
   "execution_count": 6,
   "id": "7fa6d945-f1f2-49ee-a839-d0033b671a23",
   "metadata": {},
   "outputs": [
    {
     "name": "stdout",
     "output_type": "stream",
     "text": [
      "total 60M\n",
      "-rw-r--r-- 1 anyawaria anyawaria  18M Apr 15  2023 comments.json\n",
      "-rw-r--r-- 1 anyawaria anyawaria  42M Apr 15  2023 movies.json\n",
      "-rw-r--r-- 1 anyawaria anyawaria  560 Apr 15  2023 sessions.json\n",
      "-rw-r--r-- 1 anyawaria anyawaria 444K Apr 15  2023 theaters.json\n",
      "-rw-r--r-- 1 anyawaria anyawaria  33K Apr 15  2023 users.json\n"
     ]
    }
   ],
   "source": [
    "!ls -lh ~/p2/sample_mflix"
   ]
  },
  {
   "cell_type": "code",
   "execution_count": 7,
   "id": "4d572acb-af88-49f7-b1cc-6d557dc766ed",
   "metadata": {},
   "outputs": [],
   "source": [
    "import os\n",
    "import geopandas as gpd\n",
    "import pickle\n",
    "import matplotlib.pyplot as plt\n",
    "from datetime import datetime\n",
    "from shapely.geometry import Point\n",
    "from pymongo import MongoClient\n",
    "from bson.json_util import loads"
   ]
  },
  {
   "cell_type": "code",
   "execution_count": 8,
   "id": "e8538564-a880-40b3-82d5-8aacbee40387",
   "metadata": {},
   "outputs": [
    {
     "name": "stdout",
     "output_type": "stream",
     "text": [
      "Successfully connected to MongoDB!\n"
     ]
    }
   ],
   "source": [
    "from pymongo import MongoClient\n",
    "\n",
    "client = MongoClient('mongodb://localhost:27017/')  \n",
    "db = client[\"mflix\"]\n",
    "\n",
   ]
  },
  {
   "cell_type": "code",
   "execution_count": 9,
   "id": "c9e48bec-5207-4f82-b940-467e3cc95f37",
   "metadata": {},
   "outputs": [
    {
     "name": "stdout",
     "output_type": "stream",
     "text": [
      "['movies', 'users', 'comments', 'theaters', 'sessions']\n"
     ]
    }
   ],
   "source": [
    "print(db.list_collection_names())  # Should list collections like \"movies\", \"users\", etc."
   ]
  },
  {
   "cell_type": "code",
   "execution_count": 10,
   "id": "f8a38b25-ee7b-4f1d-8f2c-f970dc5cb987",
   "metadata": {},
   "outputs": [
    {
     "name": "stdout",
     "output_type": "stream",
     "text": [
      "⚠Skipping duplicates in 'comments': E11000 duplicate key error collection: mflix.comments index: _id_ dup key: { _id: ObjectId('5a9427648b0beebeb69579cc') }\n",
      "⚠Skipping duplicates in 'movies': E11000 duplicate key error collection: mflix.movies index: _id_ dup key: { _id: ObjectId('573a1390f29313caabcd4135') }\n",
      "⚠Skipping duplicates in 'users': E11000 duplicate key error collection: mflix.users index: _id_ dup key: { _id: ObjectId('59b99db4cfa9a34dcd7885b6') }\n",
      "⚠Skipping duplicates in 'sessions': E11000 duplicate key error collection: mflix.sessions index: _id_ dup key: { _id: ObjectId('5a97f9c91c807bb9c6eb5fb4') }\n",
      "⚠Skipping duplicates in 'theaters': E11000 duplicate key error collection: mflix.theaters index: _id_ dup key: { _id: ObjectId('59a47286cfa9a3a73e51e72c') }\n"
     ]
    }
   ],
   "source": [
    "from pymongo.errors import BulkWriteError\n",
    "\n",
    "# Directory where JSON files are located\n",
    "data_dir = \"/home/anyawaria/p2/sample_mflix\"  # Adjust if needed\n",
    "\n",
    "# Loop through all JSON files in the directory\n",
    "for file in os.listdir(data_dir):\n",
    "    if file.endswith(\".json\"):  # Only process JSON files\n",
    "        collection_name = file.split(\".\")[0]  # Use filename as collection name\n",
    "        collection = db[collection_name]  # Reference the MongoDB collection\n",
    "\n",
    "        # Read and load JSON file line by line (for NDJSON format)\n",
    "        with open(os.path.join(data_dir, file), \"r\") as f:\n",
    "            data = [loads(line) for line in f]  #Uses bson.json_util.loads()\n",
    "\n",
    "        # Insert data into MongoDB\n",
    "        if data:  # Only insert if data is not empty\n",
    "            try:\n",
    "                collection.insert_many(data)  # No 'ordered=False' needed this time\n",
    "                print(f\"Inserted {collection.count_documents({})} documents into '{collection_name}' collection\")\n",
    "            except BulkWriteError as e:\n",
    "                first_error_msg = e.details['writeErrors'][0]['errmsg']  # Get first error message\n",
    "                print(f\"⚠Skipping duplicates in '{collection_name}': {first_error_msg}\")\n"
   ]
  },
  {
   "cell_type": "code",
   "execution_count": 11,
   "id": "6431b92e-63ea-4c7b-8bca-963c38ddfd52",
   "metadata": {},
   "outputs": [
    {
     "name": "stdout",
     "output_type": "stream",
     "text": [
      "Collections in 'mflix' database: ['movies', 'users', 'comments', 'theaters', 'sessions']\n",
      "Collection 'movies' has 23539 documents.\n",
      "Collection 'users' has 185 documents.\n",
      "Collection 'comments' has 50304 documents.\n",
      "Collection 'theaters' has 1564 documents.\n",
      "Collection 'sessions' has 1 documents.\n"
     ]
    }
   ],
   "source": [
    "# Print all collections in the 'mflix' database\n",
    "print(\"Collections in 'mflix' database:\", db.list_collection_names())\n",
    "\n",
    "# Count documents in each collection\n",
    "for collection in db.list_collection_names():\n",
    "    print(f\"Collection '{collection}' has {db[collection].count_documents({})} documents.\")\n"
   ]
  },
  {
   "cell_type": "code",
   "execution_count": 12,
   "id": "7fbc927f-4765-4b93-84b4-17612ba73b51",
   "metadata": {},
   "outputs": [],
   "source": [
    "if not os.path.exists(\"answers\"):\n",
    "    os.makedirs(\"answers\")"
   ]
  },
  {
   "cell_type": "code",
   "execution_count": 67,
   "id": "003c46c1-afd2-4533-a2b6-eb7bc8fe2d6d",
   "metadata": {},
   "outputs": [
    {
     "name": "stdout",
     "output_type": "stream",
     "text": [
      "{'_id': ObjectId('573a1390f29313caabcd4135'), 'plot': 'Three men hammer on an anvil and pass a bottle of beer around.', 'genres': ['Short'], 'runtime': 1, 'cast': ['Charles Kayser', 'John Ott'], 'num_mflix_comments': 1, 'title': 'Blacksmith Scene', 'fullplot': 'A stationary camera looks at a large anvil with a blacksmith behind it and one on either side. The smith in the middle draws a heated metal rod from the fire, places it on the anvil, and all three begin a rhythmic hammering. After several blows, the metal goes back in the fire. One smith pulls out a bottle of beer, and they each take a swig. Then, out comes the glowing metal and the hammering resumes.', 'countries': ['USA'], 'released': datetime.datetime(1893, 5, 9, 0, 0), 'directors': ['William K.L. Dickson'], 'rated': 'UNRATED', 'awards': {'wins': 1, 'nominations': 0, 'text': '1 win.'}, 'lastupdated': '2015-08-26 00:03:50.133000000', 'year': 1893, 'imdb': {'rating': 6.2, 'votes': 1189, 'id': 5}, 'type': 'movie', 'tomatoes': {'viewer': {'rating': 3, 'numReviews': 184, 'meter': 32}, 'lastUpdated': datetime.datetime(2015, 6, 28, 18, 34, 9)}}\n"
     ]
    }
   ],
   "source": [
    "#q1\n",
    "q1 = list(db.movies.find().sort(\"_id\", 1).limit(1))\n",
    "\n",
    "if q1:\n",
    "    q1 = q1[0]  \n",
    "else:\n",
    "    q1 = None \n",
    "\n",
    "with open(\"answers/q1.pkl\", \"wb\") as f:\n",
    "    pickle.dump(q1, f)\n",
    "\n",
    "print(q1)"
   ]
  },
  {
   "cell_type": "code",
   "execution_count": 14,
   "id": "9080cf58-a0f8-4d56-a9c0-e220f41d491f",
   "metadata": {},
   "outputs": [
    {
     "name": "stdout",
     "output_type": "stream",
     "text": [
      "[{'_id': ObjectId('573a139df29313caabcf8dd4'), 'fullplot': \"An older man listens to Bill's story about being a callow writer who likes to follow strangers around London, observing them. One day, a glib and self-confident man whom Bill has been following confronts him. He's Cobb, a burglar who takes Bill under his wing and shows him how to break and enter. They burgle a woman's flat; Bill gets intrigued with her (photographs are everywhere in her flat). He follows her and chats her up at a bar owned by her ex-boyfriend, a nasty piece of work who killed someone in her living room with a hammer. Soon Bill is volunteering to do her a favor, which involves a break-in. What does the older man know that Bill doesn't?\", 'imdb': {'rating': 7.6, 'votes': 59767, 'id': 154506}, 'year': 1998, 'plot': 'A young writer who follows strangers for material meets a thief who takes him under his wing.', 'genres': ['Mystery', 'Thriller'], 'rated': 'R', 'metacritic': 60, 'title': 'Following', 'lastupdated': '2015-08-13 00:26:04.177000000', 'languages': ['English'], 'writers': ['Christopher Nolan'], 'type': 'movie', 'tomatoes': {'viewer': {'rating': 3.8, 'numReviews': 21674, 'meter': 85}, 'dvd': datetime.datetime(2001, 12, 11, 0, 0), 'critic': {'rating': 7.1, 'numReviews': 23, 'meter': 78}, 'lastUpdated': datetime.datetime(2015, 8, 20, 19, 0, 55), 'consensus': \"Super brief but efficient, Following represents director Christopher Nolan's burgeoning talent in tight filmmaking and hard-edge noir.\", 'rotten': 5, 'production': 'IFC', 'fresh': 18}, 'poster': 'https://m.media-amazon.com/images/M/MV5BMWZmNzk5M2QtOTM3MC00ZTg1LWJlYWMtMGIxZWVjODUwNTEzXkEyXkFqcGdeQXVyNjc1NTYyMjg@._V1_SY1000_SX677_AL_.jpg', 'num_mflix_comments': 2, 'released': datetime.datetime(1999, 11, 5, 0, 0), 'awards': {'wins': 5, 'nominations': 4, 'text': '5 wins & 4 nominations.'}, 'countries': ['UK'], 'cast': ['Jeremy Theobald', 'Alex Haw', 'Lucy Russell', 'John Nolan'], 'directors': ['Christopher Nolan'], 'runtime': 69}, {'_id': ObjectId('573a13a0f29313caabd05acc'), 'fullplot': 'Memento chronicles two separate stories of Leonard, an ex-insurance investigator who can no longer build new memories, as he attempts to find the murderer of his wife, which is the last thing he remembers. One story line moves forward in time while the other tells the story backwards revealing more each time.', 'imdb': {'rating': 8.5, 'votes': 757189, 'id': 209144}, 'year': 2000, 'plot': 'A man creates a strange system to help him remember things; so he can hunt for the murderer of his wife without his short-term memory loss being an obstacle.', 'genres': ['Mystery', 'Thriller'], 'rated': 'R', 'metacritic': 80, 'title': 'Memento', 'lastupdated': '2015-08-23 00:02:21.657000000', 'languages': ['English'], 'writers': ['Christopher Nolan (screenplay)', 'Jonathan Nolan (short story \"Memento Mori\")'], 'type': 'movie', 'tomatoes': {'website': 'http://www.otnemem.com', 'viewer': {'rating': 4.1, 'numReviews': 375899, 'meter': 94}, 'dvd': datetime.datetime(2001, 9, 4, 0, 0), 'critic': {'rating': 8.2, 'numReviews': 167, 'meter': 92}, 'boxOffice': '$23.8M', 'consensus': \"Christopher Nolan skillfully guides the audience through Memento's fractured narrative, seeping his film in existential dread.\", 'rotten': 13, 'production': 'Newmarket Films', 'lastUpdated': datetime.datetime(2015, 9, 12, 17, 21, 21), 'fresh': 154}, 'poster': 'https://m.media-amazon.com/images/M/MV5BZTcyNjk1MjgtOWI3Mi00YzQwLWI5MTktMzY4ZmI2NDAyNzYzXkEyXkFqcGdeQXVyNjU0OTQ0OTY@._V1_SY1000_SX677_AL_.jpg', 'num_mflix_comments': 1, 'released': datetime.datetime(2001, 5, 25, 0, 0), 'awards': {'wins': 54, 'nominations': 44, 'text': 'Nominated for 2 Oscars. Another 52 wins & 44 nominations.'}, 'countries': ['USA'], 'cast': ['Guy Pearce', 'Carrie-Anne Moss', 'Joe Pantoliano', 'Mark Boone Junior'], 'directors': ['Christopher Nolan'], 'runtime': 113}, {'_id': ObjectId('573a13a5f29313caabd1605f'), 'fullplot': 'Sent from the city to investigate the murder of a teenage girl in a small Alaska town, a police detective (Pacino) accidentally shoots his own partner while trying to apprehend a suspect. Instead of admitting his guilt, the detective is given an unexpected alibi, but this \"solution\" only multiplies the emotional complexity and guilt over his partner\\'s death. He\\'s also still got a murder to solve, in addition to the blackmail and framing of an innocent bystander being orchestrated by the man they were chasing. There\\'s also a local detective (Swank) who is conducting her own personal investigation... of his partner\\'s death. Will it all come crashing down on him?', 'imdb': {'rating': 7.2, 'votes': 202616, 'id': 278504}, 'year': 2002, 'plot': \"Two Los Angeles homicide detectives are dispatched to a northern town where the sun doesn't set to investigate the methodical murder of a local teen.\", 'genres': ['Mystery', 'Thriller'], 'rated': 'R', 'metacritic': 78, 'title': 'Insomnia', 'lastupdated': '2015-09-06 00:33:28.057000000', 'languages': ['English'], 'writers': ['Hillary Seitz (screenplay)', 'Nikolaj Frobenius', 'Erik Skjoldbjèrg'], 'type': 'movie', 'tomatoes': {'website': 'http://insomniamovie.warnerbros.com', 'viewer': {'rating': 3.3, 'numReviews': 102945, 'meter': 76}, 'dvd': datetime.datetime(2002, 10, 15, 0, 0), 'critic': {'rating': 7.7, 'numReviews': 198, 'meter': 92}, 'boxOffice': '$67.2M', 'consensus': \"Driven by Pacino's performance, Insomnia is a smart and riveting psychological drama.\", 'rotten': 16, 'production': 'Warner Bros. Pictures', 'lastUpdated': datetime.datetime(2015, 9, 13, 9, 59, 23), 'fresh': 182}, 'poster': 'https://m.media-amazon.com/images/M/MV5BYzlkZTEyYjUtMTY5NS00ZjU0LTk5OTYtM2M0ZDg1NmNjMzhkXkEyXkFqcGdeQXVyMTQxNzMzNDI@._V1_SY1000_SX677_AL_.jpg', 'num_mflix_comments': 1, 'released': datetime.datetime(2002, 5, 24, 0, 0), 'awards': {'wins': 1, 'nominations': 10, 'text': '1 win & 10 nominations.'}, 'countries': ['USA', 'Canada'], 'cast': ['Al Pacino', 'Martin Donovan', \"Oliver 'Ole' Zemen\", 'Hilary Swank'], 'directors': ['Christopher Nolan'], 'runtime': 118}, {'_id': ObjectId('573a13aef29313caabd2c349'), 'plot': 'After training with his mentor, Batman begins his war on crime to free the crime-ridden Gotham City from corruption that the Scarecrow and the League of Shadows have cast upon it.', 'genres': ['Action', 'Adventure'], 'runtime': 140, 'metacritic': 70, 'rated': 'PG-13', 'cast': ['Christian Bale', 'Michael Caine', 'Liam Neeson', 'Katie Holmes'], 'num_mflix_comments': 1, 'poster': 'https://m.media-amazon.com/images/M/MV5BZmUwNGU2ZmItMmRiNC00MjhlLTg5YWUtODMyNzkxODYzMmZlXkEyXkFqcGdeQXVyNTIzOTk5ODM@._V1_SY1000_SX677_AL_.jpg', 'title': 'Batman Begins', 'fullplot': \"When his parents were killed, billionaire playboy Bruce Wayne relocates to Asia when he is mentored by Henri Ducard and Ra's Al Ghul in how to fight evil. When learning about the plan to wipe out evil in Gotham City by Ducard, Bruce prevents this plan from getting any further and heads back to his home. Back in his original surroundings, Bruce adopts the image of a bat to strike fear into the criminals and the corrupt as the icon known as 'Batman'. But it doesn't stay quiet for long.\", 'languages': ['English', 'Urdu', 'Mandarin'], 'released': datetime.datetime(2005, 6, 15, 0, 0), 'directors': ['Christopher Nolan'], 'writers': ['Bob Kane (characters)', 'David S. Goyer (story)', 'Christopher Nolan (screenplay)', 'David S. Goyer (screenplay)'], 'awards': {'wins': 22, 'nominations': 48, 'text': 'Nominated for 1 Oscar. Another 21 wins & 48 nominations.'}, 'lastupdated': '2015-08-31 00:01:54.590000000', 'year': 2005, 'imdb': {'rating': 8.3, 'votes': 860733, 'id': 372784}, 'countries': ['USA', 'UK'], 'type': 'movie'}, {'_id': ObjectId('573a13b5f29313caabd42722'), 'fullplot': 'Batman raises the stakes in his war on crime. With the help of Lieutenant Jim Gordon and District Attorney Harvey Dent, Batman sets out to dismantle the remaining criminal organizations that plague the city streets. The partnership proves to be effective, but they soon find themselves prey to a reign of chaos unleashed by a rising criminal mastermind known to the terrified citizens of Gotham as The Joker.', 'imdb': {'rating': 9, 'votes': 1495351, 'id': 468569}, 'year': 2008, 'plot': 'When the menace known as the Joker wreaks havoc and chaos on the people of Gotham, the caped crusader must come to terms with one of the greatest psychological tests of his ability to fight injustice.', 'genres': ['Action', 'Crime', 'Drama'], 'rated': 'PG-13', 'metacritic': 82, 'title': 'The Dark Knight', 'lastupdated': '2015-09-10 17:05:27.667000000', 'languages': ['English', 'Mandarin'], 'writers': ['Jonathan Nolan (screenplay)', 'Christopher Nolan (screenplay)', 'Christopher Nolan (story)', 'David S. Goyer (story)', 'Bob Kane (characters)'], 'type': 'movie', 'tomatoes': {'website': 'http://thedarkknight.warnerbros.com/', 'viewer': {'rating': 4.4, 'numReviews': 1818515, 'meter': 94}, 'dvd': datetime.datetime(2008, 12, 9, 0, 0), 'critic': {'rating': 8.6, 'numReviews': 314, 'meter': 94}, 'boxOffice': '$533.3M', 'consensus': 'Dark, complex and unforgettable, The Dark Knight succeeds not just as an entertaining comic book film, but as a richly thrilling crime saga.', 'rotten': 19, 'production': 'Warner Bros. Pictures/Legendary', 'lastUpdated': datetime.datetime(2015, 9, 10, 17, 5, 30), 'fresh': 295}, 'poster': 'https://m.media-amazon.com/images/M/MV5BMTMxNTMwODM0NF5BMl5BanBnXkFtZTcwODAyMTk2Mw@@._V1_SY1000_SX677_AL_.jpg', 'num_mflix_comments': 426, 'released': datetime.datetime(2008, 7, 18, 0, 0), 'awards': {'wins': 144, 'nominations': 106, 'text': 'Won 2 Oscars. Another 142 wins & 106 nominations.'}, 'countries': ['USA', 'UK'], 'cast': ['Christian Bale', 'Heath Ledger', 'Aaron Eckhart', 'Michael Caine'], 'directors': ['Christopher Nolan'], 'runtime': 152}]\n"
     ]
    }
   ],
   "source": [
    "#q2\n",
    "q2 = list(db.movies.find({\"directors\": \"Christopher Nolan\"}))  \n",
    "\n",
    "with open(\"answers/q2.pkl\", \"wb\") as f:\n",
    "    pickle.dump(q2, f)\n",
    "\n",
    "print(q2[:5])  "
   ]
  },
  {
   "cell_type": "code",
   "execution_count": 15,
   "id": "e942f832-6fd3-436f-af62-ea226c1f18b5",
   "metadata": {},
   "outputs": [
    {
     "name": "stdout",
     "output_type": "stream",
     "text": [
      "[{'_id': ObjectId('59b99db4cfa9a34dcd7885b6'), 'name': 'Ned Stark', 'email': 'sean_bean@gameofthron.es', 'password': '$2b$12$UREFwsRUoyF0CRqGNK0LzO0HM/jLhgUCNNIJ9RJAqMUQ74crlJ1Vu'}, {'_id': ObjectId('59b99db4cfa9a34dcd7885b7'), 'name': 'Robert Baratheon', 'email': 'mark_addy@gameofthron.es', 'password': '$2b$12$yGqxLG9LZpXA2xVDhuPnSOZd.VURVkz7wgOLY3pnO0s7u2S1ZO32y'}, {'_id': ObjectId('59b99db5cfa9a34dcd7885b8'), 'name': 'Jaime Lannister', 'email': 'nikolaj_coster-waldau@gameofthron.es', 'password': '$2b$12$6vz7wiwO.EI5Rilvq1zUc./9480gb1uPtXcahDxIadgyC3PS8XCUK'}, {'_id': ObjectId('59b99db5cfa9a34dcd7885b9'), 'name': 'Catelyn Stark', 'email': 'michelle_fairley@gameofthron.es', 'password': '$2b$12$fiaTH5Sh1zKNFX2i/FTEreWGjxoJxvmV7XL.qlfqCr8CwOxK.mZWS'}, {'_id': ObjectId('59b99db6cfa9a34dcd7885ba'), 'name': 'Cersei Lannister', 'email': 'lena_headey@gameofthron.es', 'password': '$2b$12$FExjgr7CLhNCa.oUsB9seub8mqcHzkJCFZ8heMc8CeIKOZfeTKP8m'}]\n"
     ]
    }
   ],
   "source": [
    "#q3\n",
    "q3 = list(db.users.find().limit(5))  \n",
    "\n",
    "with open(\"answers/q3.pkl\", \"wb\") as f:\n",
    "    pickle.dump(q3, f)\n",
    "\n",
    "print(q3)"
   ]
  },
  {
   "cell_type": "code",
   "execution_count": 62,
   "id": "111c3947-f49c-47fe-8e3c-a88f5278c1ec",
   "metadata": {},
   "outputs": [
    {
     "name": "stdout",
     "output_type": "stream",
     "text": [
      "{'_id': ObjectId('573a1396f29313caabce4a9a'), 'fullplot': 'When the aging head of a famous crime family decides to transfer his position to one of his subalterns, a series of unfortunate events start happening to the family, and a war begins between all the well-known families leading to insolence, deportation, murder and revenge, and ends with the favorable successor being finally chosen.', 'imdb': {'rating': 9.2, 'votes': 1038358, 'id': 68646}, 'year': 1972, 'plot': 'The aging patriarch of an organized crime dynasty transfers control of his clandestine empire to his reluctant son.', 'genres': ['Crime', 'Drama'], 'rated': 'R', 'metacritic': 100, 'title': 'The Godfather', 'lastupdated': '2015-09-02 00:08:23.680000000', 'languages': ['English', 'Italian', 'Latin'], 'writers': ['Mario Puzo (screenplay)', 'Francis Ford Coppola (screenplay)', 'Mario Puzo (novel)'], 'type': 'movie', 'tomatoes': {'website': 'http://www.thegodfather.com', 'viewer': {'rating': 4.4, 'numReviews': 725773, 'meter': 98}, 'dvd': datetime.datetime(2001, 10, 9, 0, 0), 'critic': {'rating': 9.2, 'numReviews': 84, 'meter': 99}, 'lastUpdated': datetime.datetime(2015, 9, 12, 17, 15, 13), 'consensus': \"One of Hollywood's greatest critical and commercial successes, The Godfather gets everything right; not only did the movie transcend expectations, it established new benchmarks for American cinema.\", 'rotten': 1, 'production': 'Paramount Pictures', 'fresh': 83}, 'poster': 'https://m.media-amazon.com/images/M/MV5BM2MyNjYxNmUtYTAwNi00MTYxLWJmNWYtYzZlODY3ZTk3OTFlXkEyXkFqcGdeQXVyNzkwMjQ5NzM@._V1_SY1000_SX677_AL_.jpg', 'num_mflix_comments': 380, 'released': datetime.datetime(1972, 3, 24, 0, 0), 'awards': {'wins': 33, 'nominations': 19, 'text': 'Won 3 Oscars. Another 30 wins & 19 nominations.'}, 'countries': ['USA'], 'cast': ['Marlon Brando', 'Al Pacino', 'James Caan', 'Richard S. Castellano'], 'directors': ['Francis Ford Coppola'], 'runtime': 175}\n"
     ]
    }
   ],
   "source": [
    "#q4\n",
    "q4 = list(db.movies.find({\"imdb.rating\": {\"$gt\": 9}}).limit(1))\n",
    "\n",
    "\n",
    "if q4:\n",
    "    q4 = q4[0]  \n",
    "else:\n",
    "    q4 = None \n",
    "\n",
    "with open(\"answers/q4.pkl\", \"wb\") as f:\n",
    "    pickle.dump(q4, f)\n",
    "\n",
    "print(q4)"
   ]
  },
  {
   "cell_type": "code",
   "execution_count": 17,
   "id": "2d5aa93b-7e29-4daf-833f-b55888885f8b",
   "metadata": {},
   "outputs": [
    {
     "name": "stdout",
     "output_type": "stream",
     "text": [
      "23539\n"
     ]
    }
   ],
   "source": [
    "#q5\n",
    "q5 = db.movies.count_documents({})  \n",
    "\n",
    "with open(\"answers/q5.pkl\", \"wb\") as f:\n",
    "    pickle.dump(q5, f)\n",
    "\n",
    "print(q5)"
   ]
  },
  {
   "cell_type": "code",
   "execution_count": 18,
   "id": "4e6301a5-8f7d-4824-a6dc-60b61f23af7e",
   "metadata": {},
   "outputs": [
    {
     "name": "stdout",
     "output_type": "stream",
     "text": [
      "total 512K\n",
      "-rw-rw-r-- 1 anyawaria anyawaria 1.1K Mar  5 00:29 q1.pkl\n",
      "-rw-rw-r-- 1 anyawaria anyawaria  14K Mar  5 00:04 q10.pkl\n",
      "-rw-rw-r-- 1 anyawaria anyawaria  853 Mar  5 00:04 q11.pkl\n",
      "-rw-rw-r-- 1 anyawaria anyawaria   15 Mar  5 00:04 q12.pkl\n",
      "-rw-rw-r-- 1 anyawaria anyawaria 3.1K Mar  5 00:04 q13.pkl\n",
      "-rw-rw-r-- 1 anyawaria anyawaria    5 Mar  5 00:04 q14.pkl\n",
      "-rw-rw-r-- 1 anyawaria anyawaria   15 Mar  5 00:04 q15.pkl\n",
      "-rw-rw-r-- 1 anyawaria anyawaria   15 Mar  5 00:04 q16.pkl\n",
      "-rw-rw-r-- 1 anyawaria anyawaria 2.8K Mar  5 00:04 q17.pkl\n",
      "-rw-rw-r-- 1 anyawaria anyawaria 3.8K Mar  5 00:04 q18.pkl\n",
      "-rw-rw-r-- 1 anyawaria anyawaria   15 Mar  5 00:04 q19.pkl\n",
      "-rw-rw-r-- 1 anyawaria anyawaria  17K Mar  5 00:29 q2.pkl\n",
      "-rw-rw-r-- 1 anyawaria anyawaria  935 Mar  5 00:04 q20.pkl\n",
      "-rw-rw-r-- 1 anyawaria anyawaria    5 Mar  5 00:28 q21.pkl\n",
      "-rw-rw-r-- 1 anyawaria anyawaria    5 Mar  5 00:28 q22.pkl\n",
      "-rw-rw-r-- 1 anyawaria anyawaria   44 Mar  5 00:04 q23.pkl\n",
      "-rw-rw-r-- 1 anyawaria anyawaria  241 Mar  5 00:04 q24.pkl\n",
      "-rw-rw-r-- 1 anyawaria anyawaria  293 Mar  5 00:04 q25.pkl\n",
      "-rw-rw-r-- 1 anyawaria anyawaria   45 Mar  5 00:04 q26.pkl\n",
      "-rw-rw-r-- 1 anyawaria anyawaria  116 Mar  5 00:04 q27.pkl\n",
      "-rw-rw-r-- 1 anyawaria anyawaria  339 Mar  5 00:04 q28.pkl\n",
      "-rw-rw-r-- 1 anyawaria anyawaria  247 Mar  5 00:04 q29.pkl\n",
      "-rw-rw-r-- 1 anyawaria anyawaria  883 Mar  5 00:29 q3.pkl\n",
      "-rw-rw-r-- 1 anyawaria anyawaria 361K Mar  5 00:04 q30.pkl\n",
      "-rw-rw-r-- 1 anyawaria anyawaria   58 Mar  5 00:04 q31.pkl\n",
      "-rw-rw-r-- 1 anyawaria anyawaria 1.9K Mar  5 00:29 q4.pkl\n",
      "-rw-rw-r-- 1 anyawaria anyawaria   15 Mar  5 00:29 q5.pkl\n",
      "-rw-rw-r-- 1 anyawaria anyawaria   15 Mar  5 00:04 q6.pkl\n",
      "-rw-rw-r-- 1 anyawaria anyawaria   15 Mar  5 00:04 q7.pkl\n",
      "-rw-rw-r-- 1 anyawaria anyawaria   15 Mar  5 00:04 q8.pkl\n",
      "-rw-rw-r-- 1 anyawaria anyawaria   15 Mar  5 00:04 q9.pkl\n"
     ]
    }
   ],
   "source": [
    "!ls -lh answers/"
   ]
  },
  {
   "cell_type": "code",
   "execution_count": 19,
   "id": "85c709bf-b5b6-420c-aaef-bc944af7b15b",
   "metadata": {},
   "outputs": [
    {
     "name": "stdout",
     "output_type": "stream",
     "text": [
      "13103\n"
     ]
    }
   ],
   "source": [
    "#q6\n",
    "q6 = db.movies.count_documents({\"year\": {\"$gt\": 2000}}) \n",
    "\n",
    "with open(\"answers/q6.pkl\", \"wb\") as f:\n",
    "    pickle.dump(q6, f)\n",
    "\n",
    "print(q6)"
   ]
  },
  {
   "cell_type": "code",
   "execution_count": 20,
   "id": "c31266f6-2778-4623-b202-0f988b96d6cb",
   "metadata": {},
   "outputs": [
    {
     "name": "stdout",
     "output_type": "stream",
     "text": [
      "7024\n"
     ]
    }
   ],
   "source": [
    "#q7\n",
    "q7 = db.movies.count_documents({\"genres\": \"Comedy\"})  \n",
    "\n",
    "with open(\"answers/q7.pkl\", \"wb\") as f:\n",
    "    pickle.dump(q7, f)\n",
    "\n",
    "print(q7)"
   ]
  },
  {
   "cell_type": "code",
   "execution_count": 21,
   "id": "afc573c9-84aa-4d44-957a-6a86bda25349",
   "metadata": {},
   "outputs": [
    {
     "name": "stdout",
     "output_type": "stream",
     "text": [
      "279\n"
     ]
    }
   ],
   "source": [
    "#q8\n",
    "q8 = db.comments.count_documents({\"name\": \"Taylor Hill\"}) \n",
    "\n",
    "with open(\"answers/q8.pkl\", \"wb\") as f:\n",
    "    pickle.dump(q8, f)\n",
    "\n",
    "print(q8)"
   ]
  },
  {
   "cell_type": "code",
   "execution_count": 22,
   "id": "b0e85393-b5fe-44b6-82bb-fad0e9d3866c",
   "metadata": {},
   "outputs": [
    {
     "name": "stdout",
     "output_type": "stream",
     "text": [
      "3722\n"
     ]
    }
   ],
   "source": [
    "#q9\n",
    "q9 = db.movies.count_documents({\"runtime\": {\"$gt\": 120}})  # Count movies >120 min\n",
    "\n",
    "with open(\"answers/q9.pkl\", \"wb\") as f:\n",
    "    pickle.dump(q9, f)\n",
    "\n",
    "print(q9)\n"
   ]
  },
  {
   "cell_type": "code",
   "execution_count": 23,
   "id": "5497ed3e-500c-4aae-85b3-6d79f35aaa46",
   "metadata": {},
   "outputs": [
    {
     "name": "stdout",
     "output_type": "stream",
     "text": [
      "[{'title': '(T)ERROR'}, {'title': '11 Minutes'}, {'title': '13 Minutes'}, {'title': '3 1/2 Minutes, Ten Bullets'}, {'title': '45 Years'}]\n"
     ]
    }
   ],
   "source": [
    "#q10\n",
    "q10 = list(db.movies.find({\"year\": 2015}, {\"title\": 1, \"_id\": 0}).sort(\"title\", 1))  \n",
    "\n",
    "with open(\"answers/q10.pkl\", \"wb\") as f:\n",
    "    pickle.dump(q10, f)\n",
    "\n",
    "print(q10[:5]) \n"
   ]
  },
  {
   "cell_type": "code",
   "execution_count": 24,
   "id": "2a1a0ae6-22ad-4011-b356-045debe905f8",
   "metadata": {},
   "outputs": [
    {
     "name": "stdout",
     "output_type": "stream",
     "text": [
      "[{'_id': ObjectId('5b7327c34a68c3f7a7bcb1d3'), 'name': 'sxkybvzb6', 'email': 'vtz4prjvb@g622o.1yk', 'movie_id': ObjectId('573a13eff29313caabdd82f3'), 'text': 'fazzlebizzle', 'date': datetime.datetime(2018, 8, 14, 15, 5, 3, 142000)}, {'_id': ObjectId('5b7327724a68c3f7a7bcb1ae'), 'name': 'jjjdmntww', 'email': 'h90xxa9b0@gn3q7.7th', 'movie_id': ObjectId('573a13eff29313caabdd82f3'), 'text': 'feefee', 'date': datetime.datetime(2018, 8, 14, 15, 3, 14, 306000)}, {'_id': ObjectId('5b7326fd4a68c3f7a7bcb188'), 'name': 'yznjm1yul', 'email': 'rio72go4u@wztfh.ep0', 'movie_id': ObjectId('573a13eff29313caabdd82f3'), 'text': 'feefee', 'date': datetime.datetime(2018, 8, 14, 15, 1, 16, 716000)}, {'_id': ObjectId('5b7326bd4a68c3f7a7bcb15f'), 'name': 'sg1u6swo4', 'email': 'gs4jr54ar@6gvpw.ok0', 'movie_id': ObjectId('573a13eff29313caabdd82f3'), 'text': 'fazzlebizzle', 'date': datetime.datetime(2018, 8, 14, 15, 0, 25, 211000)}, {'_id': ObjectId('5b7325024a68c3f7a7bcb123'), 'name': 'g7pnd0yy2', 'email': 'afobv6jhf@c9e0o.lb0', 'movie_id': ObjectId('573a13eff29313caabdd82f3'), 'text': 'fazzlebizzle', 'date': datetime.datetime(2018, 8, 14, 14, 53, 11, 550000)}]\n"
     ]
    }
   ],
   "source": [
    "#q11\n",
    "q11 = list(db.comments.find().sort(\"date\", -1).limit(5))  # Sort by date (descending)\n",
    "\n",
    "with open(\"answers/q11.pkl\", \"wb\") as f:\n",
    "    pickle.dump(q11, f)\n",
    "\n",
    "print(q11)"
   ]
  },
  {
   "cell_type": "code",
   "execution_count": 25,
   "id": "1ed70040-4824-4914-8ebb-d937228ffe47",
   "metadata": {},
   "outputs": [
    {
     "name": "stdout",
     "output_type": "stream",
     "text": [
      "779\n"
     ]
    }
   ],
   "source": [
    "#q12\n",
    "q12 = db.movies.count_documents({\"genres\": {\"$all\": [\"Action\", \"Adventure\"]}}) \n",
    "\n",
    "with open(\"answers/q12.pkl\", \"wb\") as f:\n",
    "    pickle.dump(q12, f)\n",
    "\n",
    "print(q12)\n"
   ]
  },
  {
   "cell_type": "code",
   "execution_count": 26,
   "id": "bb60a272-9b16-43db-9be0-d493cc7a6142",
   "metadata": {},
   "outputs": [
    {
     "name": "stdout",
     "output_type": "stream",
     "text": [
      "[{'imdb': {'rating': 9.2}, 'year': 1972, 'genres': ['Crime', 'Drama'], 'title': 'The Godfather'}, {'imdb': {'rating': 9.1}, 'year': 1974, 'genres': ['Crime', 'Drama'], 'title': 'The Godfather: Part II'}, {'genres': ['Drama', 'History'], 'title': 'I, Claudius', 'year': 1976, 'imdb': {'rating': 9}}, {'genres': ['Documentary', 'History'], 'title': 'Hollywood', 'year': 1980, 'imdb': {'rating': 9.1}}, {'genres': ['Documentary'], 'title': 'Cosmos', 'year': 1980, 'imdb': {'rating': 9.3}}]\n"
     ]
    }
   ],
   "source": [
    "#q13\n",
    "q13 = list(db.movies.find(\n",
    "    {\"imdb.rating\": {\"$gte\": 9, \"$lte\": 10}},  \n",
    "    {\"title\": 1, \"imdb.rating\": 1, \"genres\": 1, \"year\": 1, \"_id\": 0} \n",
    "))\n",
    "\n",
    "with open(\"answers/q13.pkl\", \"wb\") as f:\n",
    "    pickle.dump(q13, f)\n",
    "\n",
    "print(q13[:5]) "
   ]
  },
  {
   "cell_type": "code",
   "execution_count": 27,
   "id": "cdd1d40e-bf82-4337-a57b-e3fa6dfdec9d",
   "metadata": {},
   "outputs": [
    {
     "name": "stdout",
     "output_type": "stream",
     "text": [
      "181\n"
     ]
    }
   ],
   "source": [
    "#q14\n",
    "q14 = db.movies.count_documents({\n",
    "    \"directors\": {\"$size\": 3} \n",
    "})\n",
    "\n",
    "with open(\"answers/q14.pkl\", \"wb\") as f:\n",
    "    pickle.dump(q14, f)\n",
    "\n",
    "print(q14)"
   ]
  },
  {
   "cell_type": "code",
   "execution_count": 28,
   "id": "ed9d8978-92cb-431c-be15-419788842b3e",
   "metadata": {},
   "outputs": [
    {
     "name": "stdout",
     "output_type": "stream",
     "text": [
      "296\n"
     ]
    }
   ],
   "source": [
    "# q15\n",
    "q15 = db.movies.count_documents({\n",
    "    \"directors\": {\"$exists\": True},  \n",
    "    \"$expr\": {\"$gte\": [{\"$size\": \"$directors\"}, 3]}  \n",
    "})\n",
    "\n",
    "with open(\"answers/q15.pkl\", \"wb\") as f:\n",
    "    pickle.dump(q15, f)\n",
    "\n",
    "\n",
    "print(q15)"
   ]
  },
  {
   "cell_type": "code",
   "execution_count": 29,
   "id": "31bcd605-6da0-47a9-8665-20b6c73dbffa",
   "metadata": {},
   "outputs": [
    {
     "name": "stdout",
     "output_type": "stream",
     "text": [
      "510\n"
     ]
    }
   ],
   "source": [
    "#q16\n",
    "q16 = db.comments.count_documents({\n",
    "    \"movie_id\": {\"$in\": [movie[\"_id\"] for movie in db.movies.find({\"year\": 2010}, {\"_id\": 1})]}\n",
    "})\n",
    "\n",
    "with open(\"answers/q16.pkl\", \"wb\") as f:\n",
    "    pickle.dump(q16, f)\n",
    "\n",
    "print(q16)"
   ]
  },
  {
   "cell_type": "code",
   "execution_count": 30,
   "id": "486d4f99-4452-4cbb-9d01-040096c69f69",
   "metadata": {},
   "outputs": [
    {
     "name": "stdout",
     "output_type": "stream",
     "text": [
      "['Alliser Thorne', 'Amy Phillips', 'Amy Ramirez', 'Andrea Le', 'Anthony Cline']\n"
     ]
    }
   ],
   "source": [
    "#q17\n",
    "q17 = sorted(db.comments.distinct(\"name\", {\n",
    "    \"movie_id\": {\"$in\": [movie[\"_id\"] for movie in db.movies.find({\"genres\": \"Action\"}, {\"_id\": 1})]}\n",
    "}))  \n",
    "\n",
    "with open(\"answers/q17.pkl\", \"wb\") as f:\n",
    "    pickle.dump(q17, f)\n",
    "\n",
    "print(q17[:5])  \n"
   ]
  },
  {
   "cell_type": "code",
   "execution_count": 66,
   "id": "d45b92c9-066e-49de-812b-76b546de8eaf",
   "metadata": {},
   "outputs": [
    {
     "name": "stdout",
     "output_type": "stream",
     "text": [
      "{'_id': ObjectId('5b71c2884a68c30929b2a9f1'), 'name': 'bbw6dadfe', 'email': '7o9jvpos7@zmu2t.koi', 'movie_id': ObjectId('573a13eff29313caabdd82f3'), 'text': 'fazzlebizzle', 'date': datetime.datetime(2018, 8, 13, 13, 40, 29, 394000)}\n",
      "{'_id': ObjectId('5b71c8444a68c315a80b046a'), 'name': 'ztcviee3w', 'email': 'k5s0qzhgq@bura0.b9j', 'movie_id': ObjectId('573a13eff29313caabdd82f3'), 'text': 'fazzlebizzle', 'date': datetime.datetime(2018, 8, 13, 14, 4, 57, 526000)}\n",
      "{'_id': ObjectId('5b721c0020a32767b53b0ef0'), 'name': 'y5uve0uql', 'email': '7ba24unv0@f93ng.s96', 'movie_id': ObjectId('573a13eff29313caabdd82f3'), 'text': 'fazzlebizzle', 'date': datetime.datetime(2018, 8, 13, 20, 2, 12, 67000)}\n",
      "{'_id': ObjectId('5b721c8820a32768c1dd5b97'), 'name': 'z49ahxnxe', 'email': '7ypfpywp6@z618q.oc0', 'movie_id': ObjectId('573a13eff29313caabdd82f3'), 'text': 'fazzlebizzle', 'date': datetime.datetime(2018, 8, 13, 20, 4, 28, 72000)}\n",
      "{'_id': ObjectId('5b721d0820a3276a27f20a63'), 'name': 'e5ghwc58r', 'email': 'xqwefpikq@a1sr6.gli', 'movie_id': ObjectId('573a13eff29313caabdd82f3'), 'text': 'fazzlebizzle', 'date': datetime.datetime(2018, 8, 13, 20, 6, 36, 772000)}\n",
      "{'_id': ObjectId('5b721d6620a3276b101b7a77'), 'name': 'kovdob65w', 'email': '2nv7oyemk@osyi4.36c', 'movie_id': ObjectId('573a13eff29313caabdd82f3'), 'text': 'fazzlebizzle', 'date': datetime.datetime(2018, 8, 13, 20, 8, 10, 715000)}\n",
      "{'_id': ObjectId('5b721e3f20a3276e7bee3fb2'), 'name': 'iukovzpo8', 'email': 'ligt6npo1@py07n.rxq', 'movie_id': ObjectId('573a13eff29313caabdd82f3'), 'text': 'fazzlebizzle', 'date': datetime.datetime(2018, 8, 13, 20, 11, 47, 125000)}\n",
      "{'_id': ObjectId('5b721eca20a3276fd6f4aa31'), 'name': 'ndr4563es', 'email': 'tf4lcqe2w@ray3l.8ab', 'movie_id': ObjectId('573a13eff29313caabdd82f3'), 'text': 'fazzlebizzle', 'date': datetime.datetime(2018, 8, 13, 20, 14, 7, 924000)}\n",
      "{'_id': ObjectId('5b72208d20a3277434e2b27a'), 'name': 'x79ado7jj', 'email': 'ebhazkbw1@r2cdu.ro7', 'movie_id': ObjectId('573a13eff29313caabdd82f3'), 'text': 'fazzlebizzle', 'date': datetime.datetime(2018, 8, 13, 20, 21, 37, 783000)}\n",
      "{'_id': ObjectId('5b72217e20a327770964f954'), 'name': 'foobar', 'email': 'foobar@baz.com', 'movie_id': ObjectId('573a13eff29313caabdd82f3'), 'text': 'frobscottle', 'date': datetime.datetime(2018, 8, 13, 20, 25, 34, 174000)}\n"
     ]
    }
   ],
   "source": [
    "#q18\n",
    "import pickle\n",
    "from datetime import datetime\n",
    "\n",
    "q18 = list(db.comments.find(\n",
    "    {\"date\": {\"$gte\": datetime(2018, 8, 13)}},  \n",
    "    {\"_id\": 1, \"name\": 1, \"email\": 1, \"movie_id\": 1, \"text\": 1, \"date\": 1} \n",
    "))\n",
    "\n",
    "with open(\"answers/q18.pkl\", \"wb\") as f:\n",
    "    pickle.dump(q18, f)\n",
    "\n",
    "for comment in q18[:10]:  \n",
    "    print(comment)"
   ]
  },
  {
   "cell_type": "code",
   "execution_count": 32,
   "id": "4956245f-ecec-471c-9016-6d91e9512388",
   "metadata": {},
   "outputs": [
    {
     "name": "stdout",
     "output_type": "stream",
     "text": [
      "1269\n"
     ]
    }
   ],
   "source": [
    "#q19\n",
    "q19 = db.comments.count_documents({\n",
    "    \"movie_id\": {\"$in\": [movie[\"_id\"] for movie in db.movies.find({\"directors\": \"Steven Spielberg\"}, {\"_id\": 1})]}\n",
    "})\n",
    "\n",
    "with open(\"answers/q19.pkl\", \"wb\") as f:\n",
    "    pickle.dump(q19, f)\n",
    "\n",
    "print(q19)"
   ]
  },
  {
   "cell_type": "code",
   "execution_count": 33,
   "id": "f8de0a7d-bdb0-4bdd-9c91-ec4d13598bea",
   "metadata": {},
   "outputs": [
    {
     "name": "stdout",
     "output_type": "stream",
     "text": [
      "[{'title': 'A Brave Heart: The Lizzie Velasquez Story', 'released': datetime.datetime(2015, 9, 25, 0, 0), 'imdb': {'rating': 9.4}}, {'title': 'The Real Miyagi', 'released': datetime.datetime(2015, 2, 20, 0, 0), 'imdb': {'rating': 9.3}}, {'title': 'Over the Garden Wall', 'released': datetime.datetime(2014, 11, 3, 0, 0), 'imdb': {'rating': 9.2}}, {'title': 'Frozen Planet', 'released': datetime.datetime(2012, 3, 18, 0, 0), 'imdb': {'rating': 9.2}}, {'title': 'Human Planet', 'released': datetime.datetime(2011, 1, 13, 0, 0), 'imdb': {'rating': 9.2}}, {'title': 'Life', 'released': datetime.datetime(2009, 10, 12, 0, 0), 'imdb': {'rating': 9.2}}, {'title': 'Planet Earth', 'released': datetime.datetime(2007, 3, 25, 0, 0), 'imdb': {'rating': 9.5}}, {'title': 'The Blue Planet', 'released': datetime.datetime(2002, 1, 27, 0, 0), 'imdb': {'rating': 9.2}}, {'title': 'Band of Brothers', 'released': datetime.datetime(2001, 9, 9, 0, 0), 'imdb': {'rating': 9.6}}, {'title': 'Pride and Prejudice', 'released': datetime.datetime(1996, 1, 14, 0, 0), 'imdb': {'rating': 9.1}}]\n"
     ]
    }
   ],
   "source": [
    "#q20\n",
    "q20 = list(db.movies.find(\n",
    "    {\"imdb.rating\": {\"$gt\": 9.0}},  # IMDb rating > 9.0\n",
    "    {\"title\": 1, \"released\": 1, \"imdb.rating\": 1, \"_id\": 0} \n",
    ").sort(\"released\", -1).limit(10))  \n",
    "\n",
    "with open(\"answers/q20.pkl\", \"wb\") as f:\n",
    "    pickle.dump(q20, f)\n",
    "\n",
    "print(q20)"
   ]
  },
  {
   "cell_type": "code",
   "execution_count": 34,
   "id": "1a9f7c72-7e43-4932-ac50-b9805a4607c4",
   "metadata": {},
   "outputs": [
    {
     "name": "stdout",
     "output_type": "stream",
     "text": [
      "16090\n"
     ]
    }
   ],
   "source": [
    "#q21\n",
    "q21 = db.movies.count_documents({\n",
    "    \"_id\": {\"$nin\": db.comments.distinct(\"movie_id\")}  \n",
    "})\n",
    "\n",
    "with open(\"answers/q21.pkl\", \"wb\") as f:\n",
    "    pickle.dump(q21, f)\n",
    "\n",
    "print(q21)"
   ]
  },
  {
   "cell_type": "code",
   "execution_count": 52,
   "id": "8c8a738a-aebc-4a47-92f6-ed79eedb2c9a",
   "metadata": {},
   "outputs": [
    {
     "name": "stdout",
     "output_type": "stream",
     "text": [
      "4477\n"
     ]
    }
   ],
   "source": [
    "#q22\n",
    "q22 = db.movies.count_documents({\n",
    "    \"title\": {\"$regex\": \"^The\", \"$options\": \"i\"}  \n",
    "})\n",
    "\n",
    "with open(\"answers/q22.pkl\", \"wb\") as f:\n",
    "    pickle.dump(q22, f)\n",
    "\n",
    "print(q22) "
   ]
  },
  {
   "cell_type": "code",
   "execution_count": null,
   "id": "c6673052-0d64-4431-87a8-dbcacf6812e5",
   "metadata": {},
   "outputs": [],
   "source": []
  },
  {
   "cell_type": "code",
   "execution_count": null,
   "id": "7545d6d6-703f-474f-b7a0-9aaaaa6085b6",
   "metadata": {},
   "outputs": [],
   "source": []
  },
  {
   "cell_type": "code",
   "execution_count": null,
   "id": "c0ba3a3c-f37c-4f42-9d83-30d950918084",
   "metadata": {},
   "outputs": [],
   "source": []
  },
  {
   "cell_type": "code",
   "execution_count": 36,
   "id": "8da4938e-9cd3-4ccb-b98f-1f037f37b3cd",
   "metadata": {},
   "outputs": [
    {
     "name": "stdout",
     "output_type": "stream",
     "text": [
      "[{'average_rating': 6.38}]\n"
     ]
    }
   ],
   "source": [
    "#q23\n",
    "q23_pipeline = [\n",
    "    {\"$match\": {\"genres\": \"Action\", \"imdb.rating\": {\"$exists\": True}}},  \n",
    "    {\"$group\": {\n",
    "        \"_id\": None,\n",
    "        \"average_rating\": {\"$avg\": \"$imdb.rating\"} \n",
    "    }},\n",
    "    {\"$project\": {\n",
    "        \"_id\": 0,\n",
    "        \"average_rating\": {\"$round\": [\"$average_rating\", 2]}  \n",
    "    }}\n",
    "]\n",
    "\n",
    "q23 = list(db.movies.aggregate(q23_pipeline))\n",
    "\n",
    "with open(\"answers/q23.pkl\", \"wb\") as f:\n",
    "    pickle.dump(q23, f)\n",
    "\n",
    "print(q23)"
   ]
  },
  {
   "cell_type": "code",
   "execution_count": 37,
   "id": "1e068c14-2f82-4450-ad38-9e6bc24e9d9c",
   "metadata": {},
   "outputs": [
    {
     "name": "stdout",
     "output_type": "stream",
     "text": [
      "[{'_id': 'Mace Tyrell', 'total_comments': 331}, {'_id': 'Missandei', 'total_comments': 327}, {'_id': 'The High Sparrow', 'total_comments': 315}, {'_id': 'Sansa Stark', 'total_comments': 308}, {'_id': 'Rodrik Cassel', 'total_comments': 305}]\n"
     ]
    }
   ],
   "source": [
    "#q24\n",
    "q24_pipeline = [\n",
    "    {\"$group\": {\n",
    "        \"_id\": \"$name\",  \n",
    "        \"total_comments\": {\"$sum\": 1}  \n",
    "    }},\n",
    "    {\"$sort\": {\n",
    "        \"total_comments\": -1,  \n",
    "        \"_id\": 1  \n",
    "    }},\n",
    "    {\"$limit\": 5}  \n",
    "]\n",
    "\n",
    "q24 = list(db.comments.aggregate(q24_pipeline))\n",
    "\n",
    "with open(\"answers/q24.pkl\", \"wb\") as f:\n",
    "    pickle.dump(q24, f)\n",
    "\n",
    "print(q24)"
   ]
  },
  {
   "cell_type": "code",
   "execution_count": 38,
   "id": "52fedd44-adfa-4f47-88c2-2b95cc43aa6f",
   "metadata": {},
   "outputs": [
    {
     "name": "stdout",
     "output_type": "stream",
     "text": [
      "[{'_id': ObjectId('573a13bff29313caabd5e91e'), 'total_comments': 161}, {'_id': ObjectId('573a13abf29313caabd25582'), 'total_comments': 158}, {'_id': ObjectId('573a13a5f29313caabd159a9'), 'total_comments': 158}, {'_id': ObjectId('573a13a3f29313caabd0d1e3'), 'total_comments': 158}, {'_id': ObjectId('573a13b3f29313caabd3b647'), 'total_comments': 158}]\n"
     ]
    }
   ],
   "source": [
    "#q25\n",
    "q25_pipeline = [\n",
    "    {\"$group\": {\n",
    "        \"_id\": \"$movie_id\",  \n",
    "        \"total_comments\": {\"$sum\": 1}  \n",
    "    }},\n",
    "    {\"$lookup\": {\n",
    "        \"from\": \"movies\", \n",
    "        \"localField\": \"_id\",  \n",
    "        \"foreignField\": \"_id\",\n",
    "        \"as\": \"movie\"\n",
    "    }},\n",
    "    {\"$unwind\": \"$movie\"}, \n",
    "    {\"$sort\": {\n",
    "        \"total_comments\": -1,  \n",
    "        \"movie.title\": 1  \n",
    "    }},\n",
    "    {\"$project\": {\n",
    "        \"_id\": 1,  \n",
    "        \"total_comments\": 1  \n",
    "    }},\n",
    "    {\"$limit\": 5}  \n",
    "]\n",
    "\n",
    "q25 = list(db.comments.aggregate(q25_pipeline))\n",
    "\n",
    "with open(\"answers/q25.pkl\", \"wb\") as f:\n",
    "    pickle.dump(q25, f)\n",
    "\n",
    "print(q25)"
   ]
  },
  {
   "cell_type": "code",
   "execution_count": 39,
   "id": "f643ff65-8f09-4b0d-b0f5-b8de16d5d0f9",
   "metadata": {},
   "outputs": [
    {
     "name": "stdout",
     "output_type": "stream",
     "text": [
      "[{'average_runtime': 103.05}]\n"
     ]
    }
   ],
   "source": [
    "#q26\n",
    "q26_pipeline = [\n",
    "    {\"$match\": {\"genres\": \"Sci-Fi\", \"runtime\": {\"$exists\": True}}},  \n",
    "    {\"$group\": {\n",
    "        \"_id\": None,\n",
    "        \"average_runtime\": {\"$avg\": \"$runtime\"}  \n",
    "    }},\n",
    "    {\"$project\": {\n",
    "        \"_id\": 0,\n",
    "        \"average_runtime\": {\"$round\": [\"$average_runtime\", 2]}  \n",
    "    }}\n",
    "]\n",
    "\n",
    "q26 = list(db.movies.aggregate(q26_pipeline))\n",
    "\n",
    "with open(\"answers/q26.pkl\", \"wb\") as f:\n",
    "    pickle.dump(q26, f)\n",
    "\n",
    "print(q26)"
   ]
  },
  {
   "cell_type": "code",
   "execution_count": 40,
   "id": "721bef28-bbfa-421e-a152-508244cb23b7",
   "metadata": {},
   "outputs": [
    {
     "name": "stdout",
     "output_type": "stream",
     "text": [
      "[{'_id': 'Woody Allen', 'count': 40}, {'_id': 'John Ford', 'count': 35}, {'_id': 'John Huston', 'count': 34}]\n"
     ]
    }
   ],
   "source": [
    "#q27\n",
    "q27_pipeline = [\n",
    "    {\"$unwind\": \"$directors\"},  \n",
    "    {\"$group\": {\n",
    "        \"_id\": \"$directors\",  \n",
    "        \"count\": {\"$sum\": 1}  \n",
    "    }},\n",
    "    {\"$sort\": {\n",
    "        \"count\": -1,  \n",
    "        \"_id\": 1  \n",
    "    }},\n",
    "    {\"$limit\": 3}  \n",
    "]\n",
    "\n",
    "q27 = list(db.movies.aggregate(q27_pipeline))\n",
    "\n",
    "with open(\"answers/q27.pkl\", \"wb\") as f:\n",
    "    pickle.dump(q27, f)\n",
    "\n",
    "print(q27)"
   ]
  },
  {
   "cell_type": "code",
   "execution_count": 41,
   "id": "5edd3236-eb31-49f3-b778-21de457df666",
   "metadata": {},
   "outputs": [
    {
     "name": "stdout",
     "output_type": "stream",
     "text": [
      "[{'comment_count': 331, 'email': 'roger_ashton-griffiths@gameofthron.es'}, {'comment_count': 327, 'email': 'nathalie_emmanuel@gameofthron.es'}, {'comment_count': 315, 'email': 'jonathan_pryce@gameofthron.es'}, {'comment_count': 308, 'email': 'sophie_turner@gameofthron.es'}, {'comment_count': 305, 'email': 'ron_donachie@gameofthron.es'}]\n"
     ]
    }
   ],
   "source": [
    "#q28\n",
    "q28_pipeline = [\n",
    "    {\"$group\": {\n",
    "        \"_id\": \"$email\", \n",
    "        \"comment_count\": {\"$sum\": 1}  \n",
    "    }},\n",
    "    {\"$sort\": {\n",
    "        \"comment_count\": -1  \n",
    "    }},\n",
    "    {\"$limit\": 5},  \n",
    "    {\"$project\": {\n",
    "        \"email\": \"$_id\", \n",
    "        \"comment_count\": 1,\n",
    "        \"_id\": 0\n",
    "    }}\n",
    "]\n",
    "\n",
    "q28 = list(db.comments.aggregate(q28_pipeline))\n",
    "\n",
    "with open(\"answers/q28.pkl\", \"wb\") as f:\n",
    "    pickle.dump(q28, f)\n",
    "\n",
    "print(q28)"
   ]
  },
  {
   "cell_type": "code",
   "execution_count": 42,
   "id": "04976417-0e6f-4ea7-92b4-4ba6eb0e45c9",
   "metadata": {},
   "outputs": [
    {
     "name": "stdout",
     "output_type": "stream",
     "text": [
      "[{'_id': 'Film-Noir', 'average_rating': 7.5}, {'_id': 'Documentary', 'average_rating': 7.37}, {'_id': 'Short', 'average_rating': 7.36}, {'_id': 'News', 'average_rating': 7.25}, {'_id': 'History', 'average_rating': 7.2}]\n"
     ]
    }
   ],
   "source": [
    "#q29\n",
    "q29_pipeline = [\n",
    "    {\"$unwind\": \"$genres\"},  \n",
    "    {\"$match\": {\"imdb.rating\": {\"$exists\": True}}},  \n",
    "    {\"$group\": {\n",
    "        \"_id\": \"$genres\", \n",
    "        \"average_rating\": {\"$avg\": \"$imdb.rating\"}  \n",
    "    }},\n",
    "    {\"$project\": {\n",
    "        \"_id\": 1, \n",
    "        \"average_rating\": {\"$round\": [\"$average_rating\", 2]}  \n",
    "    }},\n",
    "    {\"$sort\": {\n",
    "        \"average_rating\": -1  \n",
    "    }},\n",
    "    {\"$limit\": 5}  \n",
    "]\n",
    "\n",
    "q29 = list(db.movies.aggregate(q29_pipeline))\n",
    "\n",
    "with open(\"answers/q29.pkl\", \"wb\") as f:\n",
    "    pickle.dump(q29, f)\n",
    "\n",
    "print(q29)"
   ]
  },
  {
   "cell_type": "code",
   "execution_count": 55,
   "id": "319b8282-3465-4e44-af07-3e46e46ba0c2",
   "metadata": {},
   "outputs": [
    {
     "name": "stdout",
     "output_type": "stream",
     "text": [
      "[{'_id': 'Alliser Thorne'}, {'_id': 'Amy Phillips'}, {'_id': 'Amy Ramirez'}, {'_id': 'Andrea Le'}, {'_id': 'Anthony Cline'}, {'_id': 'Anthony Hurst'}, {'_id': 'Anthony Smith'}, {'_id': 'Anthony Thompson'}, {'_id': 'April Cole'}, {'_id': 'Arya Stark'}, {'_id': 'Ashlee Hart'}, {'_id': 'Barbara Gonzalez'}, {'_id': 'Barristan Selmy'}, {'_id': 'Beric Dondarrion'}, {'_id': 'Blake Fitzgerald'}, {'_id': 'Blake Sellers'}, {'_id': 'Bowen Marsh'}, {'_id': 'Bradley Brooks'}, {'_id': 'Bran Stark'}, {'_id': 'Brandon Hardy'}, {'_id': 'Brenda Martin'}, {'_id': 'Brienne of Tarth'}, {'_id': 'Bronn'}, {'_id': 'Cameron Duran'}, {'_id': 'Catelyn Stark'}, {'_id': 'Catherine Romero'}, {'_id': 'Cersei Lannister'}, {'_id': 'Christian Williams'}, {'_id': 'Christopher Robinson'}, {'_id': 'Connie Barton'}, {'_id': 'Connie Johnson'}, {'_id': 'Daario Naharis'}, {'_id': 'Daenerys Targaryen'}, {'_id': 'Daniel Simmons'}, {'_id': 'Davos Seaworth'}, {'_id': 'Deborah Kennedy'}, {'_id': 'Denise Bryant'}, {'_id': 'Denise Davidson'}, {'_id': 'Desiree Pierce'}, {'_id': 'Donna Russell'}, {'_id': 'Donna Smith'}, {'_id': 'Doreah'}, {'_id': 'Eddison Tollett'}, {'_id': 'Edward Barrett'}, {'_id': 'Elizabeth Wiggins'}, {'_id': 'Ellaria Sand'}, {'_id': 'Emily Ellis'}, {'_id': 'Eric Navarro'}, {'_id': 'Garrett Obrien'}, {'_id': 'Gendry'}, {'_id': 'Gilly'}, {'_id': 'Grand Maester Pycelle'}, {'_id': 'Greg Powell'}, {'_id': 'Gregor Clegane'}, {'_id': 'Grenn'}, {'_id': 'Grey Worm'}, {'_id': 'Heather Leonard'}, {'_id': 'Hodor'}, {'_id': 'Hot Pie'}, {'_id': 'Irri'}, {'_id': 'Jaime Lannister'}, {'_id': 'Jamie Santana'}, {'_id': 'Janos Slynt'}, {'_id': \"Jaqen H'ghar\"}, {'_id': 'Jason Hernandez'}, {'_id': 'Jason Smith'}, {'_id': 'Javier Smith'}, {'_id': 'Jeffrey Roberts'}, {'_id': 'Jennifer Frazier'}, {'_id': 'Jeor Mormont'}, {'_id': 'Jerry Cabrera'}, {'_id': 'Joffrey Baratheon'}, {'_id': 'John Bishop'}, {'_id': 'John Rice'}, {'_id': 'John Roman'}, {'_id': 'Jojen Reed'}, {'_id': 'Jon Snow'}, {'_id': 'Jonathon Mccullough'}, {'_id': 'Jorah Mormont'}, {'_id': 'Jordan Medina'}, {'_id': 'Jose Hall'}, {'_id': 'Joshua Kent'}, {'_id': 'Julia Nichols'}, {'_id': 'Justin Williams'}, {'_id': 'Karina Martin'}, {'_id': 'Kathryn Sosa'}, {'_id': 'Keith Phillips'}, {'_id': 'Kelsey Smith'}, {'_id': 'Kenneth Chandler'}, {'_id': 'Kevan Lannister'}, {'_id': 'Khal Drogo'}, {'_id': 'Kimberly Gates'}, {'_id': 'Kristen Schmidt'}, {'_id': 'Lancel Lannister'}, {'_id': 'Lisa Rasmussen'}, {'_id': 'Lisa Russo'}, {'_id': 'Lisa Silva'}, {'_id': 'Loras Tyrell'}, {'_id': 'Lori Blankenship'}, {'_id': 'Lori Franklin'}, {'_id': 'Mace Tyrell'}, {'_id': 'Maester Aemon'}, {'_id': 'Maester Luwin'}, {'_id': 'Margaery Tyrell'}, {'_id': 'Mary Mitchell'}, {'_id': 'Meera Reed'}, {'_id': 'Megan Richards'}, {'_id': 'Megan Turner'}, {'_id': 'Melisandre'}, {'_id': 'Melissa Jones'}, {'_id': 'Melissa Young'}, {'_id': 'Mercedes Tyler'}, {'_id': 'Meryn Trant'}, {'_id': 'Michael Day'}, {'_id': 'Michael Moore'}, {'_id': 'Missandei'}, {'_id': 'Morgan Smith'}, {'_id': 'Mrs. Ariana Nunez'}, {'_id': 'Ms. Cathy Miller'}, {'_id': 'Myrcella Baratheon'}, {'_id': 'Ned Stark'}, {'_id': 'Nicholas Johnson'}, {'_id': 'Nicholas Webster'}, {'_id': 'Nichole Miller'}, {'_id': 'Olenna Tyrell'}, {'_id': 'Olly'}, {'_id': 'Osha'}, {'_id': 'Othell Yarwyck'}, {'_id': 'Patricia Good'}, {'_id': 'Patrick Knight'}, {'_id': 'Paul Bailey'}, {'_id': 'Paula Sullivan'}, {'_id': 'Petyr Baelish'}, {'_id': 'Phillip Collins'}, {'_id': 'Podrick Payne'}, {'_id': 'Pypar'}, {'_id': 'Qyburn'}, {'_id': 'Ramsay Bolton'}, {'_id': 'Rast'}, {'_id': 'Richard Davis'}, {'_id': 'Richard Schmidt'}, {'_id': 'Rickon Stark'}, {'_id': 'Robb Stark'}, {'_id': 'Robert Baratheon'}, {'_id': 'Robert Jordan'}, {'_id': 'Rodrik Cassel'}, {'_id': 'Ronald Cox'}, {'_id': 'Roose Bolton'}, {'_id': 'Ros'}, {'_id': 'Samwell Tarly'}, {'_id': 'Sandor Clegane'}, {'_id': 'Sansa Stark'}, {'_id': 'Sarah Lewis'}, {'_id': 'Selyse Baratheon'}, {'_id': 'Shae'}, {'_id': 'Shawn Mccormick'}, {'_id': 'Shireen Baratheon'}, {'_id': 'Stannis Baratheon'}, {'_id': 'Talisa Maegyr'}, {'_id': 'Taylor Hill'}, {'_id': 'Taylor Scott'}, {'_id': 'Teresa Thomas'}, {'_id': 'The High Sparrow'}, {'_id': 'The Waif'}, {'_id': 'Theon Greyjoy'}, {'_id': 'Theresa Holmes'}, {'_id': 'Thomas Buckley'}, {'_id': 'Thomas Green'}, {'_id': 'Thomas Morris'}, {'_id': 'Thoros of Myr'}, {'_id': 'Tommen Baratheon'}, {'_id': 'Tormund Giantsbane'}, {'_id': 'Tyrion Lannister'}, {'_id': 'Tywin Lannister'}, {'_id': 'Varys'}, {'_id': 'Victor Fleming'}, {'_id': 'Victor Patel'}, {'_id': 'Victoria Sanders'}, {'_id': 'Viserys Targaryen'}, {'_id': 'Yara Greyjoy'}, {'_id': 'Ygritte'}, {'_id': 'Yolanda Owen'}, {'_id': 'Yvette Roth'}]\n"
     ]
    }
   ],
   "source": [
    "#q30\n",
    "import pickle\n",
    "\n",
    "q30_pipeline = [\n",
    "    {\"$lookup\": {\n",
    "        \"from\": \"movies\",\n",
    "        \"localField\": \"movie_id\",\n",
    "        \"foreignField\": \"_id\",\n",
    "        \"as\": \"movie\"\n",
    "    }},\n",
    "    {\"$unwind\": \"$movie\"},  \n",
    "    {\"$unwind\": \"$movie.genres\"}, \n",
    "    {\"$group\": {\n",
    "        \"_id\": \"$name\",  \n",
    "        \"genres_commented\": {\"$addToSet\": \"$movie.genres\"}  \n",
    "    }},\n",
    "    {\"$match\": {\"genres_commented\": {\"$all\": [\"Action\", \"Drama\"]}}},  \n",
    "    {\"$project\": {\"_id\": 1}}, \n",
    "    {\"$sort\": {\"_id\": 1}} \n",
    "]\n",
    "\n",
    "q30 = list(db.comments.aggregate(q30_pipeline))\n",
    "\n",
    "with open(\"answers/q30.pkl\", \"wb\") as f:\n",
    "    pickle.dump(q30, f)\n",
    "\n",
    "print(q30) "
   ]
  },
  {
   "cell_type": "code",
   "execution_count": 44,
   "id": "c4c5a6bc-a09a-40a6-a821-43ffd74887f9",
   "metadata": {},
   "outputs": [
    {
     "name": "stdout",
     "output_type": "stream",
     "text": [
      "[{'_id': 'Mace Tyrell', 'unique_movies': 270}]\n"
     ]
    }
   ],
   "source": [
    "#q31\n",
    "q31_pipeline = [\n",
    "    {\"$group\": {\n",
    "        \"_id\": \"$name\",  # Group by user name\n",
    "        \"unique_movies\": {\"$addToSet\": \"$movie_id\"}  # Store distinct movie IDs per user\n",
    "    }},\n",
    "    {\"$project\": {\n",
    "        \"_id\": 1,  # Keep user name\n",
    "        \"unique_movies\": {\"$size\": \"$unique_movies\"}  # Count unique movies per user\n",
    "    }},\n",
    "    {\"$sort\": {\n",
    "        \"unique_movies\": -1  # Sort by most distinct movies (descending)\n",
    "    }},\n",
    "    {\"$limit\": 1}  # Get top user\n",
    "]\n",
    "\n",
    "q31 = list(db.comments.aggregate(q31_pipeline))\n",
    "\n",
    "with open(\"answers/q31.pkl\", \"wb\") as f:\n",
    "    pickle.dump(q31, f)\n",
    "\n",
    "print(q31)"
   ]
  },
  {
   "cell_type": "code",
   "execution_count": 45,
   "id": "d624fb12-2cee-49e9-9825-5a61e664438d",
   "metadata": {},
   "outputs": [],
   "source": [
    "def plot_theaters(theaters, map_type, filename):\n",
    "    assert map_type in ['wi', 'madison']\n",
    "    assert filename in ['q32', 'q33', 'q34']\n",
    "    \n",
    "\n",
    "    gdf = gpd.GeoDataFrame(theaters, geometry=gpd.points_from_xy(\n",
    "        [theater['location']['geo']['coordinates'][0] for theater in theaters],\n",
    "        [theater['location']['geo']['coordinates'][1] for theater in theaters]\n",
    "    ))\n",
    "\n",
    "    world = gpd.read_file(\"wi_limits.geojson\")  \n",
    "    if map_type == 'madison':\n",
    "        world = gpd.read_file(\"madison_limits.geojson\")  \n",
    "\n",
    "    gdf = gdf.set_crs(world.crs)\n",
    "    \n",
    "    ax = world.plot(figsize=(10, 6), color='lightgray', edgecolor='black')\n",
    "    gdf.plot(ax=ax, marker='o', color='red', markersize=5)\n",
    "    plt.title(\"Theater Locations in Wisconsin\")\n",
    "\n",
    "    plt.grid(True)\n",
    "    plt.savefig(f'{filename}.png')  \n",
    "    plt.show()"
   ]
  },
  {
   "cell_type": "code",
   "execution_count": 46,
   "id": "c0a596bd-ddf3-4ddb-8e27-1f875fa931dd",
   "metadata": {},
   "outputs": [
    {
     "data": {
      "image/png": "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",
      "text/plain": [
       "<Figure size 1000x600 with 1 Axes>"
      ]
     },
     "metadata": {},
     "output_type": "display_data"
    }
   ],
   "source": [
    "#q32\n",
    "q32 = list(db.theaters.find({\"location.address.state\": \"WI\"}))\n",
    "\n",
    "plot_theaters(q32, \"wi\", \"q32\")"
   ]
  },
  {
   "cell_type": "code",
   "execution_count": 47,
   "id": "31008ef5-ed75-41a8-90a4-0216be0fc8a3",
   "metadata": {},
   "outputs": [
    {
     "data": {
      "text/plain": [
       "'location.geo.coordinates_2dsphere'"
      ]
     },
     "execution_count": 47,
     "metadata": {},
     "output_type": "execute_result"
    }
   ],
   "source": [
    "db.theaters.create_index([(\"location.geo.coordinates\", \"2dsphere\")])\n"
   ]
  },
  {
   "cell_type": "code",
   "execution_count": 48,
   "id": "4408ce48-82ce-4178-ae53-ddada0fbb874",
   "metadata": {},
   "outputs": [
    {
     "data": {
      "text/plain": [
       "['_id_', 'location.geo.coordinates_2dsphere']"
      ]
     },
     "execution_count": 48,
     "metadata": {},
     "output_type": "execute_result"
    }
   ],
   "source": [
    "list(db.theaters.index_information())\n"
   ]
  },
  {
   "cell_type": "code",
   "execution_count": 49,
   "id": "7afdac31-8dd6-40f6-bff5-084351714e23",
   "metadata": {},
   "outputs": [
    {
     "data": {
      "image/png": "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",
      "text/plain": [
       "<Figure size 1000x600 with 1 Axes>"
      ]
     },
     "metadata": {},
     "output_type": "display_data"
    }
   ],
   "source": [
    "#q33\n",
    "q33 = list(db.theaters.find({\n",
    "    \"location.geo.coordinates\": {\n",
    "        \"$near\": {\n",
    "            \"$geometry\": {\n",
    "                \"type\": \"Point\",\n",
    "                \"coordinates\": [-87.22109, 45.15602]  \n",
    "            }\n",
    "        }\n",
    "    }\n",
    "}).limit(2))\n",
    "\n",
    "plot_theaters(q33, \"wi\", \"q33\")"
   ]
  },
  {
   "cell_type": "code",
   "execution_count": 50,
   "id": "496e3065-b3f0-4fd1-bca5-b1b5b08e9c41",
   "metadata": {},
   "outputs": [
    {
     "data": {
      "image/png": "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",
      "text/plain": [
       "<Figure size 1000x600 with 1 Axes>"
      ]
     },
     "metadata": {},
     "output_type": "display_data"
    }
   ],
   "source": [
    "#q34\n",
    "q34 = list(db.theaters.find({\n",
    "    \"location.geo.coordinates\": {\n",
    "        \"$near\": {\n",
    "            \"$geometry\": {\n",
    "                \"type\": \"Point\",\n",
    "                \"coordinates\": [-89.40816, 43.07540]  \n",
    "            },\n",
    "            \"$maxDistance\": 16090 \n",
    "        }\n",
    "    }\n",
    "}))\n",
    "\n",
    "plot_theaters(q34, \"madison\", \"q34\")"
   ]
  },
  {
   "cell_type": "code",
   "execution_count": 51,
   "id": "31f10935-a049-4a79-92be-cd3fb840b7f8",
   "metadata": {},
   "outputs": [
    {
     "name": "stdout",
     "output_type": "stream",
     "text": [
      "-rw-rw-r-- 1 anyawaria anyawaria  45K Mar  5 00:29 q33.png\n",
      "-rw-rw-r-- 1 anyawaria anyawaria  71K Mar  5 00:29 q34.png\n"
     ]
    }
   ],
   "source": [
    "!ls -lh | grep q33.png\n",
    "!ls -lh | grep q34.png"
   ]
  },
  {
   "cell_type": "code",
   "execution_count": null,
   "id": "0e5611fa-325c-4174-8f19-ebb72cc0c784",
   "metadata": {},
   "outputs": [],
   "source": []
  }
 ],
 "metadata": {
  "kernelspec": {
   "display_name": "Python 3 (ipykernel)",
   "language": "python",
   "name": "python3"
  },
  "language_info": {
   "codemirror_mode": {
    "name": "ipython",
    "version": 3
   },
   "file_extension": ".py",
   "mimetype": "text/x-python",
   "name": "python",
   "nbconvert_exporter": "python",
   "pygments_lexer": "ipython3",
   "version": "3.10.12"
  }
 },
 "nbformat": 4,
 "nbformat_minor": 5
}
